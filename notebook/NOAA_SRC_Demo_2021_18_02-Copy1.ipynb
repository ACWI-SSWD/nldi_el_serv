{
 "cells": [
  {
   "cell_type": "markdown",
   "id": "changed-involvement",
   "metadata": {},
   "source": [
    "pygeohydro.readthedocs.io# Explore methods to develop cross-section tool and synthetic rating curve\n",
    "* Use Hydrodata packages to search NLDI and grab 3dep DEMs: pygeohydro.readthedocs.io\n",
    "* USGS 06721000 SOUTH PLATTE RIVER AT FORT LUPTON, CO.\n",
    "\n",
    "Richard McDonald rmcd@usgs.gov"
   ]
  },
  {
   "cell_type": "code",
   "execution_count": 1,
   "id": "signal-palace",
   "metadata": {},
   "outputs": [],
   "source": [
    "from nldi_el_serv.XSGen import XSGen\n",
    "import py3dep\n",
    "from pynhd import NLDI, NHDPlusHR, WaterData\n",
    "import xarray as xr\n",
    "from matplotlib import pyplot as plt\n",
    "import numpy as np\n",
    "import pandas as pd\n",
    "import dataretrieval.nwis as nwis\n",
    "try:\n",
    "    from nldi_el_serv.__openChannel import flowEst\n",
    "except ImportError:\n",
    "    from .__openChannel import flowEst"
   ]
  },
  {
   "cell_type": "code",
   "execution_count": 4,
   "id": "b3153946-65fe-4f96-89b1-b31b7df34408",
   "metadata": {},
   "outputs": [],
   "source": [
    "gagebasin = NLDI().get_basins(\"06721000\").to_crs('epsg:3857')"
   ]
  },
  {
   "cell_type": "markdown",
   "id": "elegant-layout",
   "metadata": {},
   "source": [
    "### Use NLDI feature to grab USGS gage and associated NHD stream segment"
   ]
  },
  {
   "cell_type": "code",
   "execution_count": 5,
   "id": "ff311b60-7219-421b-bf1e-89c578aabdf8",
   "metadata": {},
   "outputs": [],
   "source": [
    "gageloc = NLDI().getfeature_byid(\"nwissite\", \"USGS-06721000\").to_crs('epsg:3857')"
   ]
  },
  {
   "cell_type": "code",
   "execution_count": 6,
   "id": "8ce54c81-2726-4c54-930a-724497c4bad4",
   "metadata": {},
   "outputs": [
    {
     "data": {
      "text/plain": [
       "<AxesSubplot:>"
      ]
     },
     "execution_count": 6,
     "metadata": {},
     "output_type": "execute_result"
    },
    {
     "data": {
      "image/png": "[encoded data removed]",
      "text/plain": [
       "<Figure size 432x288 with 1 Axes>"
      ]
     },
     "metadata": {
      "needs_background": "light"
     },
     "output_type": "display_data"
    }
   ],
   "source": [
    "ax = plt.subplot(111)\n",
    "gageloc.plot(ax=ax)\n",
    "gagebasin.plot(ax=ax)"
   ]
  },
  {
   "cell_type": "code",
   "execution_count": 7,
   "id": "covered-training",
   "metadata": {},
   "outputs": [
    {
     "name": "stdout",
     "output_type": "stream",
     "text": [
      "['225621'] 225621\n"
     ]
    }
   ],
   "source": [
    "gagebasin = NLDI().get_basins(\"06721000\").to_crs('epsg:3857')\n",
    "gageloc = NLDI().getfeature_byid(\"nwissite\", \"USGS-06721000\").to_crs('epsg:3857')\n",
    "cid = gageloc.comid.values.astype(str)\n",
    "print(cid,gageloc.comid.values.astype(int)[0] ) \n",
    "# strmseg_basin = NLDI().getfeature_byid(\"comid\", cid[0], basin=True).to_crs('epsg:3857')\n",
    "strmseg_loc = NLDI().getfeature_byid(\"comid\", cid[0]).to_crs('epsg:3857')"
   ]
  },
  {
   "cell_type": "markdown",
   "id": "happy-signal",
   "metadata": {},
   "source": [
    "### From gage location grab associated stream segment comid, and from comid grab stream segment geometry"
   ]
  },
  {
   "cell_type": "code",
   "execution_count": 8,
   "id": "reflected-reception",
   "metadata": {},
   "outputs": [
    {
     "data": {
      "text/html": [
       "<div>\n",
       "<style scoped>\n",
       "    .dataframe tbody tr th:only-of-type {\n",
       "        vertical-align: middle;\n",
       "    }\n",
       "\n",
       "    .dataframe tbody tr th {\n",
       "        vertical-align: top;\n",
       "    }\n",
       "\n",
       "    .dataframe thead th {\n",
       "        text-align: right;\n",
       "    }\n",
       "</style>\n",
       "<table border=\"1\" class=\"dataframe\">\n",
       "  <thead>\n",
       "    <tr style=\"text-align: right;\">\n",
       "      <th></th>\n",
       "      <th></th>\n",
       "      <th>geometry</th>\n",
       "      <th>source</th>\n",
       "      <th>sourceName</th>\n",
       "      <th>identifier</th>\n",
       "      <th>name</th>\n",
       "      <th>uri</th>\n",
       "      <th>comid</th>\n",
       "      <th>reachcode</th>\n",
       "      <th>measure</th>\n",
       "      <th>navigation</th>\n",
       "    </tr>\n",
       "  </thead>\n",
       "  <tbody>\n",
       "    <tr>\n",
       "      <th>USGS-06721000</th>\n",
       "      <th>0</th>\n",
       "      <td>POINT (-11668351.296 4882827.164)</td>\n",
       "      <td>nwissite</td>\n",
       "      <td>NWIS Sites</td>\n",
       "      <td>USGS-06721000</td>\n",
       "      <td>SOUTH PLATTE RIVER AT FORT LUPTON, CO.</td>\n",
       "      <td>https://waterdata.usgs.gov/monitoring-location...</td>\n",
       "      <td>225621</td>\n",
       "      <td>10190003000038</td>\n",
       "      <td>54.5836700000</td>\n",
       "      <td>https://labs.waterdata.usgs.gov/api/nldi/linke...</td>\n",
       "    </tr>\n",
       "  </tbody>\n",
       "</table>\n",
       "</div>"
      ],
      "text/plain": [
       "                                          geometry    source  sourceName  \\\n",
       "USGS-06721000 0  POINT (-11668351.296 4882827.164)  nwissite  NWIS Sites   \n",
       "\n",
       "                    identifier                                    name  \\\n",
       "USGS-06721000 0  USGS-06721000  SOUTH PLATTE RIVER AT FORT LUPTON, CO.   \n",
       "\n",
       "                                                               uri   comid  \\\n",
       "USGS-06721000 0  https://waterdata.usgs.gov/monitoring-location...  225621   \n",
       "\n",
       "                      reachcode        measure  \\\n",
       "USGS-06721000 0  10190003000038  54.5836700000   \n",
       "\n",
       "                                                        navigation  \n",
       "USGS-06721000 0  https://labs.waterdata.usgs.gov/api/nldi/linke...  "
      ]
     },
     "execution_count": 8,
     "metadata": {},
     "output_type": "execute_result"
    }
   ],
   "source": [
    "gageloc"
   ]
  },
  {
   "cell_type": "code",
   "execution_count": 9,
   "id": "distant-amsterdam",
   "metadata": {},
   "outputs": [
    {
     "data": {
      "text/html": [
       "<div>\n",
       "<style scoped>\n",
       "    .dataframe tbody tr th:only-of-type {\n",
       "        vertical-align: middle;\n",
       "    }\n",
       "\n",
       "    .dataframe tbody tr th {\n",
       "        vertical-align: top;\n",
       "    }\n",
       "\n",
       "    .dataframe thead th {\n",
       "        text-align: right;\n",
       "    }\n",
       "</style>\n",
       "<table border=\"1\" class=\"dataframe\">\n",
       "  <thead>\n",
       "    <tr style=\"text-align: right;\">\n",
       "      <th></th>\n",
       "      <th></th>\n",
       "      <th>geometry</th>\n",
       "      <th>source</th>\n",
       "      <th>sourceName</th>\n",
       "      <th>identifier</th>\n",
       "      <th>name</th>\n",
       "      <th>uri</th>\n",
       "      <th>comid</th>\n",
       "      <th>navigation</th>\n",
       "    </tr>\n",
       "  </thead>\n",
       "  <tbody>\n",
       "    <tr>\n",
       "      <th>225621</th>\n",
       "      <th>0</th>\n",
       "      <td>LINESTRING (-11668411.398 4879619.057, -116684...</td>\n",
       "      <td>comid</td>\n",
       "      <td>NHDPlus comid</td>\n",
       "      <td>225621</td>\n",
       "      <td></td>\n",
       "      <td></td>\n",
       "      <td>225621</td>\n",
       "      <td>https://labs.waterdata.usgs.gov/api/nldi/linke...</td>\n",
       "    </tr>\n",
       "  </tbody>\n",
       "</table>\n",
       "</div>"
      ],
      "text/plain": [
       "                                                   geometry source  \\\n",
       "225621 0  LINESTRING (-11668411.398 4879619.057, -116684...  comid   \n",
       "\n",
       "             sourceName identifier name uri   comid  \\\n",
       "225621 0  NHDPlus comid     225621           225621   \n",
       "\n",
       "                                                 navigation  \n",
       "225621 0  https://labs.waterdata.usgs.gov/api/nldi/linke...  "
      ]
     },
     "execution_count": 9,
     "metadata": {},
     "output_type": "execute_result"
    }
   ],
   "source": [
    "strmseg_loc"
   ]
  },
  {
   "cell_type": "markdown",
   "id": "breathing-quality",
   "metadata": {},
   "source": [
    "XSGen class fits a tensioned spline to the stream segment geometry and then generates a cross-section given a Width and numpoints (ny) perpendicular to splined stream segment. This could be extended to build a grid or series of cross-section on stream segment and develope a reach averaged cross-section, which would be \"like\" the HAND method."
   ]
  },
  {
   "cell_type": "code",
   "execution_count": 10,
   "id": "educational-sport",
   "metadata": {},
   "outputs": [
    {
     "data": {
      "image/png": "[encoded data removed]",
      "text/plain": [
       "<Figure size 432x288 with 1 Axes>"
      ]
     },
     "metadata": {
      "needs_background": "light"
     },
     "output_type": "display_data"
    }
   ],
   "source": [
    "# print(geomfeat.head(), geom2afeat.head())\n",
    "xs = XSGen(point=gageloc, cl_geom=strmseg_loc, ny=100, width=1000)\n",
    "xs_line = xs.get_xs()\n",
    "ax = plt.subplot(111)\n",
    "gageloc.plot(ax=ax)\n",
    "strmseg_loc.plot(ax=ax)\n",
    "xs_line.plot(ax=ax)\n",
    "xs.get_strm_seg_spine().plot(ax=ax, colors='r')\n",
    "xs_line.envelope.plot(ax=ax, facecolor=\"none\", edgecolor='black')\n",
    "plt.show()"
   ]
  },
  {
   "cell_type": "markdown",
   "id": "returning-memory",
   "metadata": {},
   "source": [
    "Use py3dep from Hydrodata to retrieve 10m DEM.\n",
    "* Future work: download available DEM products 10m, 3m, 1m, LIDAR, LIDAR+Topobathy where available"
   ]
  },
  {
   "cell_type": "code",
   "execution_count": 11,
   "id": "placed-paper",
   "metadata": {},
   "outputs": [
    {
     "data": {
      "text/plain": [
       "(-11669133.155164257, -11667852.383666053, 4879418.032165656, 4883840.5837143)"
      ]
     },
     "execution_count": 11,
     "metadata": {},
     "output_type": "execute_result"
    },
    {
     "data": {
      "image/png": "[encoded data removed]",
      "text/plain": [
       "<Figure size 432x288 with 2 Axes>"
      ]
     },
     "metadata": {
      "needs_background": "light"
     },
     "output_type": "display_data"
    }
   ],
   "source": [
    "#Buffer bounding box of cross-section otherwise interpolation with elevation below returns nans near end points\n",
    "t1 = (xs_line.total_bounds) + ((-100.,-100.,100., 100.))\n",
    "dem = py3dep.get_map(\"DEM\", tuple(t1), resolution=10, geo_crs=\"EPSG:3857\", crs=\"epsg:3857\")\n",
    "\n",
    "ax = plt.subplot(111)\n",
    "strmseg_loc.plot(ax=ax)\n",
    "xs_line.plot(ax=ax, colors='black')\n",
    "xs.get_strm_seg_spine().plot(ax=ax, colors='r')\n",
    "xs_line.envelope.plot(ax=ax, facecolor=\"none\", edgecolor='black')\n",
    "dem.plot(ax=ax)\n",
    "gageloc.plot(ax=ax)\n",
    "ax.axis('equal')\n",
    "# plt.tight_layout()"
   ]
  },
  {
   "cell_type": "code",
   "execution_count": 12,
   "id": "excited-multimedia",
   "metadata": {},
   "outputs": [
    {
     "data": {
      "text/plain": [
       "array([-11668801.95636262,   4882415.44002516, -11667852.38366605,\n",
       "         4883277.36205423])"
      ]
     },
     "execution_count": 12,
     "metadata": {},
     "output_type": "execute_result"
    }
   ],
   "source": [
    "t1"
   ]
  },
  {
   "cell_type": "markdown",
   "id": "shaped-sussex",
   "metadata": {},
   "source": [
    "Get cross-section points (XSGen class) and interpolate DEM to xs locations, Uses xarray interp method. Not sure how xarray does the interp - needs investigation. For example does it do a nearest neighbor or does it interpolate grid?"
   ]
  },
  {
   "cell_type": "code",
   "execution_count": 13,
   "id": "voluntary-motorcycle",
   "metadata": {},
   "outputs": [
    {
     "name": "stdout",
     "output_type": "stream",
     "text": [
      "<class 'xarray.core.dataarray.DataArray'>\n"
     ]
    },
    {
     "data": {
      "image/png": "[encoded data removed]",
      "text/plain": [
       "<Figure size 432x288 with 1 Axes>"
      ]
     },
     "metadata": {
      "needs_background": "light"
     },
     "output_type": "display_data"
    }
   ],
   "source": [
    "x,y = xs.get_xs_points()\n",
    "dsx = xr.DataArray(x, dims='z')\n",
    "dsy = xr.DataArray(y, dims='z')\n",
    "dsi = dem.interp(x=('z',x), y=('z',y))\n",
    "dsi.plot()\n",
    "print(type(dsi))"
   ]
  },
  {
   "cell_type": "code",
   "execution_count": null,
   "id": "living-absence",
   "metadata": {},
   "outputs": [],
   "source": []
  },
  {
   "cell_type": "code",
   "execution_count": 14,
   "id": "studied-watts",
   "metadata": {},
   "outputs": [
    {
     "name": "stdout",
     "output_type": "stream",
     "text": [
      "42 75 1486.9887933692708 1486.1693533973848\n"
     ]
    }
   ],
   "source": [
    "values = dsi.values\n",
    "lmi = np.where(values == max(values[:49]))[0][0]\n",
    "rmi = np.where(values == max(values[50:]))[0][0]\n",
    "print(lmi,rmi, values[lmi], values[rmi])"
   ]
  },
  {
   "cell_type": "code",
   "execution_count": 15,
   "id": "desperate-manitoba",
   "metadata": {},
   "outputs": [
    {
     "data": {
      "text/plain": [
       "[<matplotlib.lines.Line2D at 0x1f93e5f0b80>]"
      ]
     },
     "execution_count": 15,
     "metadata": {},
     "output_type": "execute_result"
    },
    {
     "data": {
      "image/png": "[encoded data removed]",
      "text/plain": [
       "<Figure size 432x288 with 1 Axes>"
      ]
     },
     "metadata": {
      "needs_background": "light"
     },
     "output_type": "display_data"
    }
   ],
   "source": [
    "dsi[lmi:rmi].plot()"
   ]
  },
  {
   "cell_type": "markdown",
   "id": "determined-haven",
   "metadata": {},
   "source": [
    "Calculate distance (stationing) between points for flow calculation.  "
   ]
  },
  {
   "cell_type": "code",
   "execution_count": 16,
   "id": "engaged-hungarian",
   "metadata": {},
   "outputs": [],
   "source": [
    "\n",
    "x = dsi.coords['x'].values[lmi:rmi] -dsi.coords['x'].values[lmi]\n",
    "y = dsi.coords['y'].values[lmi:rmi] -dsi.coords['y'].values[lmi]\n",
    "dist = np.hypot(x,y)\n",
    "elev = dsi.values[lmi:rmi]\n",
    "tlen = len(dist)\n",
    "# print(tlen)\n",
    "sta2 = np.zeros((tlen,2))\n",
    "t = []\n",
    "for index,(tx,ty) in enumerate(zip(dist,elev)):\n",
    "    if not np.isnan(ty):\n",
    "        a = np.array((tx,ty))\n",
    "        sta2[index] = a\n",
    "#         print(a)\n",
    "    else:\n",
    "        t.append(index)"
   ]
  },
  {
   "cell_type": "code",
   "execution_count": 17,
   "id": "united-petite",
   "metadata": {},
   "outputs": [
    {
     "data": {
      "text/plain": [
       "0.00170803"
      ]
     },
     "execution_count": 17,
     "metadata": {},
     "output_type": "execute_result"
    }
   ],
   "source": [
    "slope = pd.read_csv(r'elevslope.csv')\n",
    "segslope = slope[slope.COMID==gageloc.comid.values.astype(int)[0]]\n",
    "segslope.SLOPE.values[0]"
   ]
  },
  {
   "cell_type": "markdown",
   "id": "talented-optimization",
   "metadata": {},
   "source": [
    "Using pyGFT flow calculation steady uniform flow using Manning equation on arbitrary cross-section. I have not tested against some simple cross-sections to verify. Note units are metric\n",
    "\n",
    "*  simple example where a set of stage values are passed.  Slope is specified from NHD but manning-n is simply specified.  Below we'll calibrate mannin-n over a range of possible values"
   ]
  },
  {
   "cell_type": "code",
   "execution_count": 18,
   "id": "another-solution",
   "metadata": {},
   "outputs": [
    {
     "name": "stdout",
     "output_type": "stream",
     "text": [
      "Q is 0.0, velocity is 0top width 0 and maxdepth 0\n",
      "Q is 265.24555712732376, velocity is 0.5677819669450509top width 65.67312326926654 and maxdepth 0.263157894736878\n",
      "Q is 1051.4008892613685, velocity is 0.9385089576281075top width 74.0885434514291 and maxdepth 0.526315789473756\n",
      "Q is 2282.630965594801, velocity is 1.2447576180117803top width 79.37252804285615 and maxdepth 0.789473684210634\n",
      "Q is 3903.1033595402114, velocity is 1.5032533259282639top width 84.65651263428319 and maxdepth 1.0526315789472847\n",
      "Q is 5897.775832982966, velocity is 1.7304582352749436top width 89.95275190173332 and maxdepth 1.3157894736841627\n",
      "Q is 8246.682483313965, velocity is 1.9307983046062016top width 95.62826279605329 and maxdepth 1.5789473684210407\n",
      "Q is 10969.186958452883, velocity is 2.1148894907843223top width 101.2822090724845 and maxdepth 1.8421052631579187\n",
      "Q is 14069.429908612174, velocity is 2.285948430661476top width 106.93615534891887 and maxdepth 2.1052631578947967\n",
      "Q is 16987.37187509907, velocity is 2.3620626536849323top width 118.96408720996894 and maxdepth 2.3684210526316747\n",
      "Q is 20079.935940533214, velocity is 1.8497919542440224top width 259.28591703207604 and maxdepth 2.6315789473683253\n",
      "Q is 27014.170975860874, velocity is 2.0190265475096987top width 280.2666219447326 and maxdepth 2.8947368421052033\n",
      "Q is 35195.55962743358, velocity is 2.1913456583928834top width 297.54283330610946 and maxdepth 3.1578947368420813\n",
      "Q is 0.0, velocity is 0top width 0 and maxdepth 0\n",
      "Q is 0.0, velocity is 0top width 0 and maxdepth 0\n",
      "Q is 0.0, velocity is 0top width 0 and maxdepth 0\n",
      "Q is 0.0, velocity is 0top width 0 and maxdepth 0\n",
      "Q is 0.0, velocity is 0top width 0 and maxdepth 0\n",
      "Q is 0.0, velocity is 0top width 0 and maxdepth 0\n",
      "Q is 0.0, velocity is 0top width 0 and maxdepth 0\n"
     ]
    }
   ],
   "source": [
    "# d = np.delete(sta2, (t,(0,1)))\n",
    "min_elev = np.min(sta2[:,1])\n",
    "max_elev = np.max(sta2[:,0])\n",
    "max_depth = 5.0\n",
    "stage_values = np.linspace(min_elev, min_elev+max_depth, 20, dtype=float)\n",
    "q_values = np.zeros(len(stage_values))\n",
    "for index,ws in enumerate(stage_values):\n",
    "    args = flowEst(wsElev=ws,slope=segslope.SLOPE.values[0], n=.025, staElev=sta2, units='m')\n",
    "    print(f'Q is {args[3]/0.0283}, velocity is {args[4]}top width {args[2]} and maxdepth {args[5]}')\n",
    "    q_values[index] = args[3]"
   ]
  },
  {
   "cell_type": "markdown",
   "id": "decimal-essay",
   "metadata": {},
   "source": [
    "Get gage measurement data from nwis to compare with sythetic rating curve, and get site data to provide gage datum.  Datum could be a problem and attention should ultimately be paid to gage to the vertical datum of gage for example navd88 or ngvd29.  I'm not yet paying attention to that."
   ]
  },
  {
   "cell_type": "code",
   "execution_count": 19,
   "id": "described-collaboration",
   "metadata": {},
   "outputs": [],
   "source": [
    "site='06721000'\n",
    "meas = nwis.get_record(sites=site, service='measurements')\n",
    "si = nwis.get_record(sites=site, service='site')"
   ]
  },
  {
   "cell_type": "code",
   "execution_count": 20,
   "id": "relative-sailing",
   "metadata": {},
   "outputs": [
    {
     "data": {
      "text/html": [
       "<div>\n",
       "<style scoped>\n",
       "    .dataframe tbody tr th:only-of-type {\n",
       "        vertical-align: middle;\n",
       "    }\n",
       "\n",
       "    .dataframe tbody tr th {\n",
       "        vertical-align: top;\n",
       "    }\n",
       "\n",
       "    .dataframe thead th {\n",
       "        text-align: right;\n",
       "    }\n",
       "</style>\n",
       "<table border=\"1\" class=\"dataframe\">\n",
       "  <thead>\n",
       "    <tr style=\"text-align: right;\">\n",
       "      <th></th>\n",
       "      <th>agency_cd</th>\n",
       "      <th>site_no</th>\n",
       "      <th>measurement_nu</th>\n",
       "      <th>measurement_dt</th>\n",
       "      <th>tz_cd</th>\n",
       "      <th>q_meas_used_fg</th>\n",
       "      <th>party_nm</th>\n",
       "      <th>site_visit_coll_agency_cd</th>\n",
       "      <th>gage_height_va</th>\n",
       "      <th>discharge_va</th>\n",
       "      <th>measured_rating_diff</th>\n",
       "      <th>gage_va_change</th>\n",
       "      <th>gage_va_time</th>\n",
       "      <th>control_type_cd</th>\n",
       "      <th>discharge_cd</th>\n",
       "    </tr>\n",
       "  </thead>\n",
       "  <tbody>\n",
       "    <tr>\n",
       "      <th>0</th>\n",
       "      <td>USGS</td>\n",
       "      <td>06721000</td>\n",
       "      <td>1</td>\n",
       "      <td>2003-05-14 09:30:00</td>\n",
       "      <td>MDT</td>\n",
       "      <td>Yes</td>\n",
       "      <td>DGS</td>\n",
       "      <td>USGS</td>\n",
       "      <td>4.75</td>\n",
       "      <td>751.0</td>\n",
       "      <td>Fair</td>\n",
       "      <td>-0.01</td>\n",
       "      <td>1.10</td>\n",
       "      <td>Clear</td>\n",
       "      <td>NONE</td>\n",
       "    </tr>\n",
       "    <tr>\n",
       "      <th>1</th>\n",
       "      <td>USGS</td>\n",
       "      <td>06721000</td>\n",
       "      <td>2</td>\n",
       "      <td>2003-06-10 13:00:00</td>\n",
       "      <td>MDT</td>\n",
       "      <td>Yes</td>\n",
       "      <td>DGS</td>\n",
       "      <td>USGS</td>\n",
       "      <td>4.76</td>\n",
       "      <td>781.0</td>\n",
       "      <td>Fair</td>\n",
       "      <td>0.01</td>\n",
       "      <td>1.00</td>\n",
       "      <td>Clear</td>\n",
       "      <td>NONE</td>\n",
       "    </tr>\n",
       "    <tr>\n",
       "      <th>2</th>\n",
       "      <td>USGS</td>\n",
       "      <td>06721000</td>\n",
       "      <td>3</td>\n",
       "      <td>2003-07-03 07:50:00</td>\n",
       "      <td>MDT</td>\n",
       "      <td>Yes</td>\n",
       "      <td>DGS</td>\n",
       "      <td>USGS</td>\n",
       "      <td>4.48</td>\n",
       "      <td>658.0</td>\n",
       "      <td>Fair</td>\n",
       "      <td>0.01</td>\n",
       "      <td>1.50</td>\n",
       "      <td>Clear</td>\n",
       "      <td>NONE</td>\n",
       "    </tr>\n",
       "    <tr>\n",
       "      <th>3</th>\n",
       "      <td>USGS</td>\n",
       "      <td>06721000</td>\n",
       "      <td>4</td>\n",
       "      <td>2003-09-02 12:55:00</td>\n",
       "      <td>MDT</td>\n",
       "      <td>Yes</td>\n",
       "      <td>DGS</td>\n",
       "      <td>USGS</td>\n",
       "      <td>3.98</td>\n",
       "      <td>369.0</td>\n",
       "      <td>Fair</td>\n",
       "      <td>-0.05</td>\n",
       "      <td>1.10</td>\n",
       "      <td>Clear</td>\n",
       "      <td>NONE</td>\n",
       "    </tr>\n",
       "    <tr>\n",
       "      <th>4</th>\n",
       "      <td>USGS</td>\n",
       "      <td>06721000</td>\n",
       "      <td>5</td>\n",
       "      <td>2003-10-15 11:40:00</td>\n",
       "      <td>MDT</td>\n",
       "      <td>Yes</td>\n",
       "      <td>DGS</td>\n",
       "      <td>USGS</td>\n",
       "      <td>3.58</td>\n",
       "      <td>209.0</td>\n",
       "      <td>Fair</td>\n",
       "      <td>0.00</td>\n",
       "      <td>0.90</td>\n",
       "      <td>Clear</td>\n",
       "      <td>NONE</td>\n",
       "    </tr>\n",
       "    <tr>\n",
       "      <th>...</th>\n",
       "      <td>...</td>\n",
       "      <td>...</td>\n",
       "      <td>...</td>\n",
       "      <td>...</td>\n",
       "      <td>...</td>\n",
       "      <td>...</td>\n",
       "      <td>...</td>\n",
       "      <td>...</td>\n",
       "      <td>...</td>\n",
       "      <td>...</td>\n",
       "      <td>...</td>\n",
       "      <td>...</td>\n",
       "      <td>...</td>\n",
       "      <td>...</td>\n",
       "      <td>...</td>\n",
       "    </tr>\n",
       "    <tr>\n",
       "      <th>163</th>\n",
       "      <td>USGS</td>\n",
       "      <td>06721000</td>\n",
       "      <td>165</td>\n",
       "      <td>2020-10-06 08:18:00</td>\n",
       "      <td>MDT</td>\n",
       "      <td>Yes</td>\n",
       "      <td>DBM</td>\n",
       "      <td>USGS</td>\n",
       "      <td>2.96</td>\n",
       "      <td>122.0</td>\n",
       "      <td>Fair</td>\n",
       "      <td>0.03</td>\n",
       "      <td>0.50</td>\n",
       "      <td>Clear</td>\n",
       "      <td>NONE</td>\n",
       "    </tr>\n",
       "    <tr>\n",
       "      <th>164</th>\n",
       "      <td>USGS</td>\n",
       "      <td>06721000</td>\n",
       "      <td>166</td>\n",
       "      <td>2020-11-20 08:57:30</td>\n",
       "      <td>MST</td>\n",
       "      <td>Yes</td>\n",
       "      <td>DBM</td>\n",
       "      <td>USGS</td>\n",
       "      <td>3.34</td>\n",
       "      <td>285.0</td>\n",
       "      <td>Fair</td>\n",
       "      <td>0.00</td>\n",
       "      <td>0.68</td>\n",
       "      <td>Clear</td>\n",
       "      <td>NONE</td>\n",
       "    </tr>\n",
       "    <tr>\n",
       "      <th>165</th>\n",
       "      <td>USGS</td>\n",
       "      <td>06721000</td>\n",
       "      <td>167</td>\n",
       "      <td>2021-01-05 12:17:30</td>\n",
       "      <td>MST</td>\n",
       "      <td>Yes</td>\n",
       "      <td>DBM</td>\n",
       "      <td>USGS</td>\n",
       "      <td>3.52</td>\n",
       "      <td>311.0</td>\n",
       "      <td>Fair</td>\n",
       "      <td>0.01</td>\n",
       "      <td>0.50</td>\n",
       "      <td>Clear</td>\n",
       "      <td>NONE</td>\n",
       "    </tr>\n",
       "    <tr>\n",
       "      <th>166</th>\n",
       "      <td>USGS</td>\n",
       "      <td>06721000</td>\n",
       "      <td>168</td>\n",
       "      <td>2021-02-22 11:05:30</td>\n",
       "      <td>MST</td>\n",
       "      <td>Yes</td>\n",
       "      <td>DBM</td>\n",
       "      <td>Unspe</td>\n",
       "      <td>3.64</td>\n",
       "      <td>368.0</td>\n",
       "      <td>Good</td>\n",
       "      <td>0.01</td>\n",
       "      <td>0.75</td>\n",
       "      <td>Clear</td>\n",
       "      <td>NONE</td>\n",
       "    </tr>\n",
       "    <tr>\n",
       "      <th>167</th>\n",
       "      <td>USGS</td>\n",
       "      <td>06721000</td>\n",
       "      <td>169</td>\n",
       "      <td>2021-04-06 10:41:00</td>\n",
       "      <td>MDT</td>\n",
       "      <td>Yes</td>\n",
       "      <td>DBM</td>\n",
       "      <td>USGS</td>\n",
       "      <td>3.33</td>\n",
       "      <td>269.0</td>\n",
       "      <td>Fair</td>\n",
       "      <td>0.02</td>\n",
       "      <td>0.70</td>\n",
       "      <td>Clear</td>\n",
       "      <td>NONE</td>\n",
       "    </tr>\n",
       "  </tbody>\n",
       "</table>\n",
       "<p>168 rows × 15 columns</p>\n",
       "</div>"
      ],
      "text/plain": [
       "    agency_cd   site_no  measurement_nu       measurement_dt tz_cd  \\\n",
       "0        USGS  06721000               1  2003-05-14 09:30:00   MDT   \n",
       "1        USGS  06721000               2  2003-06-10 13:00:00   MDT   \n",
       "2        USGS  06721000               3  2003-07-03 07:50:00   MDT   \n",
       "3        USGS  06721000               4  2003-09-02 12:55:00   MDT   \n",
       "4        USGS  06721000               5  2003-10-15 11:40:00   MDT   \n",
       "..        ...       ...             ...                  ...   ...   \n",
       "163      USGS  06721000             165  2020-10-06 08:18:00   MDT   \n",
       "164      USGS  06721000             166  2020-11-20 08:57:30   MST   \n",
       "165      USGS  06721000             167  2021-01-05 12:17:30   MST   \n",
       "166      USGS  06721000             168  2021-02-22 11:05:30   MST   \n",
       "167      USGS  06721000             169  2021-04-06 10:41:00   MDT   \n",
       "\n",
       "    q_meas_used_fg party_nm site_visit_coll_agency_cd  gage_height_va  \\\n",
       "0              Yes      DGS                      USGS            4.75   \n",
       "1              Yes      DGS                      USGS            4.76   \n",
       "2              Yes      DGS                      USGS            4.48   \n",
       "3              Yes      DGS                      USGS            3.98   \n",
       "4              Yes      DGS                      USGS            3.58   \n",
       "..             ...      ...                       ...             ...   \n",
       "163            Yes      DBM                      USGS            2.96   \n",
       "164            Yes      DBM                      USGS            3.34   \n",
       "165            Yes      DBM                      USGS            3.52   \n",
       "166            Yes      DBM                     Unspe            3.64   \n",
       "167            Yes      DBM                      USGS            3.33   \n",
       "\n",
       "     discharge_va measured_rating_diff  gage_va_change  gage_va_time  \\\n",
       "0           751.0                 Fair           -0.01          1.10   \n",
       "1           781.0                 Fair            0.01          1.00   \n",
       "2           658.0                 Fair            0.01          1.50   \n",
       "3           369.0                 Fair           -0.05          1.10   \n",
       "4           209.0                 Fair            0.00          0.90   \n",
       "..            ...                  ...             ...           ...   \n",
       "163         122.0                 Fair            0.03          0.50   \n",
       "164         285.0                 Fair            0.00          0.68   \n",
       "165         311.0                 Fair            0.01          0.50   \n",
       "166         368.0                 Good            0.01          0.75   \n",
       "167         269.0                 Fair            0.02          0.70   \n",
       "\n",
       "    control_type_cd discharge_cd  \n",
       "0             Clear         NONE  \n",
       "1             Clear         NONE  \n",
       "2             Clear         NONE  \n",
       "3             Clear         NONE  \n",
       "4             Clear         NONE  \n",
       "..              ...          ...  \n",
       "163           Clear         NONE  \n",
       "164           Clear         NONE  \n",
       "165           Clear         NONE  \n",
       "166           Clear         NONE  \n",
       "167           Clear         NONE  \n",
       "\n",
       "[168 rows x 15 columns]"
      ]
     },
     "execution_count": 20,
     "metadata": {},
     "output_type": "execute_result"
    }
   ],
   "source": [
    "meas"
   ]
  },
  {
   "cell_type": "markdown",
   "id": "violent-illness",
   "metadata": {},
   "source": [
    "Might be interesting in some cases to filter measurements"
   ]
  },
  {
   "cell_type": "code",
   "execution_count": 21,
   "id": "recreational-discipline",
   "metadata": {},
   "outputs": [],
   "source": [
    "meas1 = meas.loc[(meas['measured_rating_diff'].isin(['Good','Fair','Poor']))]\n",
    "meas1.head()\n",
    "meas1.reset_index(inplace = True)"
   ]
  },
  {
   "cell_type": "markdown",
   "id": "described-murder",
   "metadata": {},
   "source": [
    "Plot of measured discharges vs synthetic rating curve"
   ]
  },
  {
   "cell_type": "code",
   "execution_count": 22,
   "id": "selected-narrative",
   "metadata": {},
   "outputs": [
    {
     "name": "stderr",
     "output_type": "stream",
     "text": [
      "C:\\Users\\rmcd\\Miniconda3\\envs\\nldi_el_serv\\lib\\site-packages\\pandas\\core\\indexing.py:1597: SettingWithCopyWarning: \n",
      "A value is trying to be set on a copy of a slice from a DataFrame.\n",
      "Try using .loc[row_indexer,col_indexer] = value instead\n",
      "\n",
      "See the caveats in the documentation: https://pandas.pydata.org/pandas-docs/stable/user_guide/indexing.html#returning-a-view-versus-a-copy\n",
      "  self.obj[key] = value\n",
      "C:\\Users\\rmcd\\Miniconda3\\envs\\nldi_el_serv\\lib\\site-packages\\pandas\\core\\indexing.py:1676: SettingWithCopyWarning: \n",
      "A value is trying to be set on a copy of a slice from a DataFrame.\n",
      "Try using .loc[row_indexer,col_indexer] = value instead\n",
      "\n",
      "See the caveats in the documentation: https://pandas.pydata.org/pandas-docs/stable/user_guide/indexing.html#returning-a-view-versus-a-copy\n",
      "  self._setitem_single_column(ilocs[0], value, pi)\n"
     ]
    },
    {
     "data": {
      "text/plain": [
       "<matplotlib.collections.PathCollection at 0x1f9403f69d0>"
      ]
     },
     "execution_count": 22,
     "metadata": {},
     "output_type": "execute_result"
    },
    {
     "data": {
      "image/png": "[encoded data removed]",
      "text/plain": [
       "<Figure size 432x288 with 1 Axes>"
      ]
     },
     "metadata": {
      "needs_background": "light"
     },
     "output_type": "display_data"
    }
   ],
   "source": [
    "meas1.loc[:,'stage_elev'] = meas1.loc[:,'gage_height_va'].values\n",
    "# add gage datum to gage measurements\n",
    "meas1.loc[:,'stage_elev'] += si.loc[:,'alt_va'].values\n",
    "meas1.loc[:,'stage_elev'] *= 0.3048\n",
    "meas1.loc[:,'discharge_va'] *= 0.02831\n",
    "# meas = pd.read_csv('usgs06759500.csv', header=None, names=['stage','discharge'])\n",
    "ax = plt.subplot(111)\n",
    "meas1.plot.scatter(x='discharge_va', y='stage_elev', ax = ax)\n",
    "plt.scatter(q_values, stage_values, color='black')"
   ]
  },
  {
   "cell_type": "markdown",
   "id": "tropical-jimmy",
   "metadata": {},
   "source": [
    "Same analysis as above but use measured stage values to calculate sythetic flow values and determine rmse of each n-value SRC.\n",
    "* remove measured stages less than minimum elevation in DEM cross-section "
   ]
  },
  {
   "cell_type": "code",
   "execution_count": 23,
   "id": "clinical-prairie",
   "metadata": {},
   "outputs": [
    {
     "name": "stdout",
     "output_type": "stream",
     "text": [
      "0.01 89.13392751118765\n",
      "0.011 75.61969815792332\n",
      "0.011999999999999999 64.92689324946909\n",
      "0.012999999999999998 56.51754563646957\n",
      "0.013999999999999997 50.015225644627755\n",
      "0.014999999999999996 45.1393645565397\n",
      "0.015999999999999993 41.65916736855232\n",
      "0.016999999999999994 39.36333207290656\n",
      "0.017999999999999995 38.046034027163614\n",
      "0.018999999999999993 37.50763584915071\n",
      "0.01999999999999999 37.563803457455734\n",
      "0.02099999999999999 38.054990337831704\n",
      "0.021999999999999992 38.8513001312268\n",
      "0.02299999999999999 39.85212545174151\n",
      "0.023999999999999987 40.98242310469422\n",
      "0.024999999999999988 42.18774025902544\n",
      "0.02599999999999999 43.42937435429148\n",
      "0.02699999999999999 44.68028502901623\n",
      "0.027999999999999983 45.92189514476539\n",
      "0.028999999999999984 47.141694363083246\n",
      "0.029999999999999985 48.33148828553153\n",
      "0.030999999999999986 49.48613690672405\n",
      "0.03199999999999998 50.60265209904512\n",
      "0.03299999999999998 51.67955393759042\n",
      "0.03399999999999998 52.71641198576935\n",
      "0.03499999999999998 53.71351827708302\n",
      "0.035999999999999976 54.671654032989856\n",
      "0.03699999999999998 55.59192320005419\n",
      "0.03799999999999998 56.475633740367314\n",
      "0.03899999999999998 57.32421315132618\n",
      "0.03999999999999997 58.13914859436154\n",
      "0.040999999999999974 58.92194476358094\n",
      "0.041999999999999975 59.67409456959488\n",
      "0.042999999999999976 60.39705909288575\n",
      "0.04399999999999998 61.09225424355165\n",
      "0.04499999999999997 61.761042267475965\n",
      "0.04599999999999997 62.404726744732926\n",
      "0.04699999999999997 63.024550091512815\n",
      "0.047999999999999966 63.62169284215348\n",
      "0.04899999999999997 64.1972741812779\n",
      "0.04999999999999997 64.75235333759501\n",
      "(array([9], dtype=int64),)\n"
     ]
    },
    {
     "data": {
      "image/png": "[encoded data removed]",
      "text/plain": [
       "<Figure size 432x288 with 1 Axes>"
      ]
     },
     "metadata": {
      "needs_background": "light"
     },
     "output_type": "display_data"
    }
   ],
   "source": [
    "def rmse(meas, sim):\n",
    "    return np.sqrt(np.square(np.subtract(meas, sim)).mean())\n",
    "\n",
    "min_elev = np.min(sta2[:,1])\n",
    "max_elev = np.max(sta2[:,0])\n",
    "max_depth = 5.0\n",
    "stage_values = meas1.stage_elev.values\n",
    "# remove measured stages less than mimimum elevation in DEM cross-section\n",
    "sv = stage_values[stage_values > min_elev]\n",
    "mq = meas1.discharge_va.values[stage_values > min_elev]\n",
    "q_values = np.zeros(len(sv))\n",
    "nvals = np.arange(0.01,0.051,0.001,dtype=float)\n",
    "rmse_vals = np.zeros(len(nvals))\n",
    "calvals = np.zeros((len(nvals),len(q_values)))\n",
    "for tindex,n in enumerate(nvals):\n",
    "    for index,ws in enumerate(sv):\n",
    "        args = flowEst(wsElev=ws,slope=segslope.SLOPE.values[0], n=n, staElev=sta2, units='m')\n",
    "#         print(f'{index}, ws is {ws}, Q is {args[3]}, MQ is {meas1.discharge_va[index]}')\n",
    "        q_values[index] = args[3]\n",
    "        calvals[tindex, index] = args[3]\n",
    "    print(n, rmse(mq, q_values))\n",
    "    rmse_vals[tindex] = rmse(mq, q_values)\n",
    "\n",
    "plt.scatter(nvals, rmse_vals)\n",
    "print(np.where(rmse_vals == min(rmse_vals)))\n",
    "minrmse_index = np.where(rmse_vals == min(rmse_vals))[0]"
   ]
  },
  {
   "cell_type": "code",
   "execution_count": 24,
   "id": "opposite-account",
   "metadata": {},
   "outputs": [
    {
     "data": {
      "text/plain": [
       "<matplotlib.legend.Legend at 0x1f94059d3a0>"
      ]
     },
     "execution_count": 24,
     "metadata": {},
     "output_type": "execute_result"
    },
    {
     "data": {
      "image/png": "[encoded data removed]",
      "text/plain": [
       "<Figure size 432x288 with 1 Axes>"
      ]
     },
     "metadata": {
      "needs_background": "light"
     },
     "output_type": "display_data"
    }
   ],
   "source": [
    "plt.scatter(calvals[minrmse_index,:], sv, label='simulated')\n",
    "plt.scatter(mq, sv, label='measured')\n",
    "plt.legend()"
   ]
  },
  {
   "cell_type": "code",
   "execution_count": 25,
   "id": "after-identification",
   "metadata": {},
   "outputs": [
    {
     "data": {
      "text/plain": [
       "0      21.26081\n",
       "1      22.11011\n",
       "2      18.62798\n",
       "3      10.44639\n",
       "4       5.91679\n",
       "         ...   \n",
       "158     3.45382\n",
       "159     8.06835\n",
       "160     8.80441\n",
       "161    10.41808\n",
       "162     7.61539\n",
       "Name: discharge_va, Length: 163, dtype: float64"
      ]
     },
     "execution_count": 25,
     "metadata": {},
     "output_type": "execute_result"
    }
   ],
   "source": [
    "meas1.discharge_va"
   ]
  },
  {
   "cell_type": "markdown",
   "id": "acoustic-ebony",
   "metadata": {},
   "source": [
    "Quick experiment curve fitting measured data"
   ]
  },
  {
   "cell_type": "code",
   "execution_count": 26,
   "id": "favorite-advantage",
   "metadata": {},
   "outputs": [
    {
     "name": "stdout",
     "output_type": "stream",
     "text": [
      "163 163\n"
     ]
    }
   ],
   "source": [
    "from scipy.optimize import curve_fit\n",
    "ds = meas1.discharge_va.values\n",
    "st = meas1.stage_elev.values\n",
    "print(len(ds), len(st))"
   ]
  },
  {
   "cell_type": "code",
   "execution_count": 27,
   "id": "facial-smith",
   "metadata": {},
   "outputs": [],
   "source": [
    "def func(x, a, b):\n",
    "    return a + b*np.log(x)\n",
    "popt,pcov = curve_fit(func, ds, st)"
   ]
  },
  {
   "cell_type": "code",
   "execution_count": 28,
   "id": "included-paint",
   "metadata": {},
   "outputs": [
    {
     "data": {
      "image/png": "[encoded data removed]",
      "text/plain": [
       "<Figure size 432x288 with 1 Axes>"
      ]
     },
     "metadata": {
      "needs_background": "light"
     },
     "output_type": "display_data"
    }
   ],
   "source": [
    "ax = plt.subplot(111)\n",
    "meas1.plot.scatter(x='discharge_va', y='stage_elev', ax = ax, label='measured')\n",
    "ax.scatter(ds, func(ds,*popt), color='black', label='log-fit')\n",
    "plt.legend()\n",
    "plt.show()"
   ]
  },
  {
   "cell_type": "code",
   "execution_count": null,
   "id": "rocky-trade",
   "metadata": {},
   "outputs": [],
   "source": []
  },
  {
   "cell_type": "code",
   "execution_count": 29,
   "id": "latter-korea",
   "metadata": {},
   "outputs": [],
   "source": [
    "slope = pd.read_csv(r'elevslope.csv')"
   ]
  },
  {
   "cell_type": "code",
   "execution_count": 30,
   "id": "vocational-girlfriend",
   "metadata": {},
   "outputs": [
    {
     "data": {
      "text/html": [
       "<div>\n",
       "<style scoped>\n",
       "    .dataframe tbody tr th:only-of-type {\n",
       "        vertical-align: middle;\n",
       "    }\n",
       "\n",
       "    .dataframe tbody tr th {\n",
       "        vertical-align: top;\n",
       "    }\n",
       "\n",
       "    .dataframe thead th {\n",
       "        text-align: right;\n",
       "    }\n",
       "</style>\n",
       "<table border=\"1\" class=\"dataframe\">\n",
       "  <thead>\n",
       "    <tr style=\"text-align: right;\">\n",
       "      <th></th>\n",
       "      <th>COMID</th>\n",
       "      <th>FDATE</th>\n",
       "      <th>MAXELEVRAW</th>\n",
       "      <th>MINELEVRAW</th>\n",
       "      <th>MAXELEVSMO</th>\n",
       "      <th>MINELEVSMO</th>\n",
       "      <th>SLOPE</th>\n",
       "      <th>ELEVFIXED</th>\n",
       "      <th>HWTYPE</th>\n",
       "      <th>STATUSFLAG</th>\n",
       "      <th>SLOPELENKM</th>\n",
       "    </tr>\n",
       "  </thead>\n",
       "  <tbody>\n",
       "    <tr>\n",
       "      <th>24181</th>\n",
       "      <td>3561878</td>\n",
       "      <td>6/30/2009</td>\n",
       "      <td>-9998.0</td>\n",
       "      <td>129917.0</td>\n",
       "      <td>129920.0</td>\n",
       "      <td>129917.0</td>\n",
       "      <td>0.000049</td>\n",
       "      <td>0</td>\n",
       "      <td>NaN</td>\n",
       "      <td>A</td>\n",
       "      <td>0.606</td>\n",
       "    </tr>\n",
       "  </tbody>\n",
       "</table>\n",
       "</div>"
      ],
      "text/plain": [
       "         COMID      FDATE  MAXELEVRAW  MINELEVRAW  MAXELEVSMO  MINELEVSMO  \\\n",
       "24181  3561878  6/30/2009     -9998.0    129917.0    129920.0    129917.0   \n",
       "\n",
       "          SLOPE  ELEVFIXED HWTYPE STATUSFLAG  SLOPELENKM  \n",
       "24181  0.000049          0    NaN          A       0.606  "
      ]
     },
     "execution_count": 30,
     "metadata": {},
     "output_type": "execute_result"
    }
   ],
   "source": [
    "slope[slope.COMID==3561878]"
   ]
  },
  {
   "cell_type": "code",
   "execution_count": 31,
   "id": "binding-terrorist",
   "metadata": {},
   "outputs": [
    {
     "name": "stdout",
     "output_type": "stream",
     "text": [
      "0.07518151815181509\n"
     ]
    }
   ],
   "source": [
    "#3561878,6.49,0.09,1328.19,1299.17,1344.73,0,0.606\n",
    "slope = (1344.73-1299.17)/606.0\n",
    "print(slope)"
   ]
  },
  {
   "cell_type": "code",
   "execution_count": null,
   "id": "amended-horizon",
   "metadata": {},
   "outputs": [],
   "source": []
  }
 ],
 "metadata": {
  "kernelspec": {
   "display_name": "Python 3",
   "language": "python",
   "name": "python3"
  },
  "language_info": {
   "codemirror_mode": {
    "name": "ipython",
    "version": 3
   },
   "file_extension": ".py",
   "mimetype": "text/x-python",
   "name": "python",
   "nbconvert_exporter": "python",
   "pygments_lexer": "ipython3",
   "version": "3.9.2"
  }
 },
 "nbformat": 4,
 "nbformat_minor": 5
}
